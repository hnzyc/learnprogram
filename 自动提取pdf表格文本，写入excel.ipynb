{
 "cells": [
  {
   "cell_type": "markdown",
   "id": "0b04a6e4-5b87-41a5-ae30-6435f0d90a0d",
   "metadata": {},
   "source": [
    "# 解决从多份银登系统生成的结算单，汇总投资者信息的问题"
   ]
  },
  {
   "cell_type": "code",
   "execution_count": 2,
   "id": "de4d8d62-1a8b-4cf9-bd75-71055c734dba",
   "metadata": {},
   "outputs": [],
   "source": [
    "import pdfplumber\n",
    "import xlwings as xw\n",
    "import os\n",
    "\n",
    "# 打开excel程序\n",
    "app=xw.App(visible=False,add_book=False)\n",
    "app.display_alerts=False\n",
    "app.screen_updating=False\n",
    "wb=app.books.add() # wb就是新建的工作簿(workbook)，下面则对wb的sheet1的A1单元格赋值\n",
    "# 填入表头\n",
    "wb.sheets['sheet1'].range('A1').value='投资者名称'\n",
    "wb.sheets['sheet1'].range('B1').value='投资者受让规模'\n",
    "wb.sheets['sheet1'].range('C1').value='投资者支付价款'\n",
    "wb.sheets['sheet1'].range('D1').value='资产全称'\n",
    "\n",
    "#获取文件所在目录\n",
    "path = r'D:\\工作基础材料\\平安安如2021\\安如二期\\安如二期结算单\\结算单'\n",
    "i=2\n",
    "# os.listdir(path)\n",
    "# for f in os.listdir(path):\n",
    "#     print(f)\n",
    "#针对目标文件夹内每一个文件，使用pdfplumber读取表格\n",
    "for f in os.listdir(path):\n",
    "    with pdfplumber.open(os.path.join(path,f)) as pdf:\n",
    "        page01 = pdf.pages[0] #指定页码\n",
    "        table1 = page01.extract_table()#提取单个表格\n",
    "    # table2 = page01.extract_tables()#提取多个表格\n",
    "#         print(table1)\n",
    "        #表格中数据读取后是一个列表，每行数据是列表的行序号，列数据为列表列序号\n",
    "        #获取需要的四列数据，最后资产全称由于原数据中带有‘\\n’，自动处理掉后的字段\n",
    "        list = [table1[12][1],table1[3][1],table1[3][-1],table1[2][-1].replace(\"\\n\", \"\")] \n",
    "        #写入excel表中\n",
    "        wb.sheets['sheet1'].range('A'+str(i)).value=list\n",
    "        i+=1\n",
    "#自动调整行列高度\n",
    "wb.sheets['sheet1'].range('A1').expand().autofit()\n",
    "#保存、关闭文件，退出程序\n",
    "wb.save(r'C:\\Users\\zhaoy\\Desktop\\投资者信息.xlsx') # 保存为指定名称的excel文件\n",
    "wb.close()\n",
    "app.quit()"
   ]
  },
  {
   "cell_type": "code",
   "execution_count": 14,
   "id": "9e626ae0-2a4f-4632-bb09-15ef2f182bb7",
   "metadata": {},
   "outputs": [
    {
     "data": {
      "text/plain": [
       "18"
      ]
     },
     "execution_count": 14,
     "metadata": {},
     "output_type": "execute_result"
    }
   ],
   "source": [
    "len(table1)"
   ]
  },
  {
   "cell_type": "code",
   "execution_count": 51,
   "id": "1325aeec-f308-4ccf-b048-0843a5c1b3b2",
   "metadata": {},
   "outputs": [
    {
     "data": {
      "text/plain": [
       "'2021平安银行股份有限公司信托受益权资产0004'"
      ]
     },
     "execution_count": 51,
     "metadata": {},
     "output_type": "execute_result"
    }
   ],
   "source": [
    "with pdfplumber.open(r'D:\\工作基础材料\\平安安如2021\\安如二期\\安如二期结算单\\结算单\\信贷资产登记流转业务结算单-国泰君安.pdf') as pdf:\n",
    "        page01 = pdf.pages[0] #指定页码\n",
    "        table1 = page01.extract_table()#提取单个表格\n",
    "name = table1[12][1]\n",
    "num = table1[3][1]\n",
    "price = table1[3][-1]\n",
    "name_assets = table1[2][-1].replace(\"\\n\", \"\")\n",
    "name_assets"
   ]
  },
  {
   "cell_type": "code",
   "execution_count": 7,
   "id": "6ecf4da4-6462-499c-914e-b3a204e30529",
   "metadata": {},
   "outputs": [],
   "source": [
    "import xlwings as xw\n",
    "app=xw.App(visible=False,add_book=False)\n",
    "app.display_alerts=False\n",
    "app.screen_updating=False\n",
    "wb=app.books.add() # wb就是新建的工作簿(workbook)，下面则对wb的sheet1的A1单元格赋值\n",
    "wb.sheets['sheet1'].range('A1').value='投资者名称'\n",
    "wb.sheets['sheet1'].range('B1').value='投资者受让规模'\n",
    "wb.sheets['sheet1'].range('C1').value='投资者支付价款'\n",
    "wb.sheets['sheet1'].range('A2').value=name\n",
    "wb.\n",
    "\n",
    "wb.save(r'投资者信息.xlsx') # 保存为指定名称的excel文件\n",
    "wb.close()\n",
    "app.quit()"
   ]
  },
  {
   "cell_type": "code",
   "execution_count": null,
   "id": "bddc26f3-599a-4066-a6fe-5c0b8f57de92",
   "metadata": {},
   "outputs": [],
   "source": []
  }
 ],
 "metadata": {
  "kernelspec": {
   "display_name": "Python 3",
   "language": "python",
   "name": "python3"
  },
  "language_info": {
   "codemirror_mode": {
    "name": "ipython",
    "version": 3
   },
   "file_extension": ".py",
   "mimetype": "text/x-python",
   "name": "python",
   "nbconvert_exporter": "python",
   "pygments_lexer": "ipython3",
   "version": "3.8.8"
  }
 },
 "nbformat": 4,
 "nbformat_minor": 5
}
