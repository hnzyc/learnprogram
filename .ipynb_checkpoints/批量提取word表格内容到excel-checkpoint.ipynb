{
 "cells": [
  {
   "cell_type": "markdown",
   "id": "14797575-d6c0-42e5-8318-8c880fc1b60e",
   "metadata": {},
   "source": [
    "# 本文主要解决两个问题\n",
    "一、解决批量从转让登记表中提取投资者信息的问题\n",
    "\n",
    "二、解决批量从转让合同中提取【】括起来的可变信息的问题\n",
    "## 1、先逐步拿其中一个文件，测试提取信息的细节"
   ]
  },
  {
   "cell_type": "code",
   "execution_count": 9,
   "id": "578d54e5-160d-42b7-be85-e33e51a0f44b",
   "metadata": {},
   "outputs": [],
   "source": [
    "from docx import Document"
   ]
  },
  {
   "cell_type": "code",
   "execution_count": 10,
   "id": "74494d72-81e9-4797-9fea-2d2f6592876b",
   "metadata": {},
   "outputs": [],
   "source": [
    "path = r'C:\\Users\\zhaoy\\Desktop\\【拟用印版】安如3期转让协议及转让登记表\\【优先B级-台州银行】安如2021年第三期财产权信托《信托受益权转让登记表》.docx'\n"
   ]
  },
  {
   "cell_type": "code",
   "execution_count": 11,
   "id": "bf63657f-2104-432d-a460-0e68cc3d972e",
   "metadata": {},
   "outputs": [
    {
     "data": {
      "text/plain": [
       "12"
      ]
     },
     "execution_count": 11,
     "metadata": {},
     "output_type": "execute_result"
    }
   ],
   "source": [
    "document = Document(path)\n",
    "table = document.tables\n",
    "rows = table[0].rows\n",
    "len(rows)"
   ]
  },
  {
   "cell_type": "code",
   "execution_count": 12,
   "id": "def1ee42-b298-4551-9769-8f31fd4bab61",
   "metadata": {},
   "outputs": [
    {
     "data": {
      "text/plain": [
       "'台州银行股份有限公司'"
      ]
     },
     "execution_count": 12,
     "metadata": {},
     "output_type": "execute_result"
    }
   ],
   "source": [
    "name = table[0].cell(2,3).text\n",
    "name"
   ]
  },
  {
   "cell_type": "code",
   "execution_count": 13,
   "id": "c759e28a-f534-4aed-83cd-bc4f9b4afe82",
   "metadata": {},
   "outputs": [
    {
     "data": {
      "text/plain": [
       "'林耿'"
      ]
     },
     "execution_count": 13,
     "metadata": {},
     "output_type": "execute_result"
    }
   ],
   "source": [
    "person = table[0].cell(7,3).text\n",
    "person"
   ]
  },
  {
   "cell_type": "code",
   "execution_count": 14,
   "id": "c907cecc-6d6f-4d7b-83f9-b9c52f8c16bc",
   "metadata": {},
   "outputs": [
    {
     "data": {
      "text/plain": [
       "'13857628289'"
      ]
     },
     "execution_count": 14,
     "metadata": {},
     "output_type": "execute_result"
    }
   ],
   "source": [
    "mobile = table[0].cell(9,3).text\n",
    "mobile"
   ]
  },
  {
   "cell_type": "code",
   "execution_count": 20,
   "id": "25c329f1-47ad-4083-bfa1-3ac679ad19eb",
   "metadata": {},
   "outputs": [
    {
     "data": {
      "text/plain": [
       "''"
      ]
     },
     "execution_count": 20,
     "metadata": {},
     "output_type": "execute_result"
    }
   ],
   "source": [
    "email = table[0].cell(10,3).text\n",
    "email"
   ]
  },
  {
   "cell_type": "markdown",
   "id": "2e3c99b0-bbf9-4713-b57a-1284320288b9",
   "metadata": {},
   "source": [
    "## 2、初步成功\n",
    "根据前面细节，可以初步实现对整个文件夹内所有的转让登记表提取出指定数据了"
   ]
  },
  {
   "cell_type": "code",
   "execution_count": 8,
   "id": "a222d63c-f69d-4c79-b913-f7187a4dde81",
   "metadata": {},
   "outputs": [],
   "source": [
    "import xlwings as xw\n",
    "import os\n",
    "from docx import Document\n",
    "\n",
    "\n",
    "# 打开excel程序\n",
    "app=xw.App(visible=False,add_book=False)\n",
    "app.display_alerts=False\n",
    "app.screen_updating=False\n",
    "wb=app.books.add() # wb就是新建的工作簿(workbook)，下面则对wb的sheet1的A1单元格赋值\n",
    "# 填入表头\n",
    "wb.sheets['sheet1'].range('A1').value='受让方名称'\n",
    "wb.sheets['sheet1'].range('B1').value='受让方联系人'\n",
    "wb.sheets['sheet1'].range('C1').value='受让人手机'\n",
    "wb.sheets['sheet1'].range('D1').value='受让人邮箱'\n",
    "\n",
    "#获取文件所在目录\n",
    "path = r'C:\\Users\\zhaoy\\Desktop\\【拟用印版】安如3期转让协议及转让登记表'\n",
    "files = os.listdir(path)\n",
    "i=2\n",
    "# os.listdir(path)\n",
    "# for f in os.listdir(path):\n",
    "#     print(f)\n",
    "#针对目标文件夹内每一个文件，使用pdfplumber读取表格\n",
    "for f in files:\n",
    "    if f.startswith('~$') or '转让登记表' not in f:\n",
    "        continue\n",
    "    else:\n",
    "        document = Document(os.path.join(path,f))\n",
    "        table = document.tables\n",
    "        rows = table[0].rows\n",
    "        name = table[0].cell(2,3).text\n",
    "        person = table[0].cell(7,3).text\n",
    "        mobile = table[0].cell(9,3).text\n",
    "        email = table[0].cell(10,3).text\n",
    "        list = [name,person,mobile,email] \n",
    "        #写入excel表中\n",
    "        wb.sheets['sheet1'].range('A'+str(i)).value=list\n",
    "        i+=1\n",
    "#自动调整行列高度\n",
    "wb.sheets['sheet1'].range('A1').expand().autofit()\n",
    "#保存、关闭文件，退出程序\n",
    "wb.save(r'C:\\Users\\zhaoy\\Desktop\\投资者信息统计.xlsx') # 保存为指定名称的excel文件\n",
    "wb.close()\n",
    "app.quit()"
   ]
  },
  {
   "cell_type": "markdown",
   "id": "4d697162-8383-429f-bf4b-d765a04a9bdf",
   "metadata": {},
   "source": [
    "但是发现一个问题，有部分转让登记表中email，由于填表的时候，word自动识别成了mail的超链接，暂时使用上面代码就无法提取出来链接内容的文字了，所以，我转而首先把word转成pdf文件，再通过提取pdf文件的指定表格文本来实现"
   ]
  },
  {
   "cell_type": "code",
   "execution_count": null,
   "id": "db6852c7-7d0e-4278-8eb3-12cf403481be",
   "metadata": {},
   "outputs": [],
   "source": [
    "import pdfplumber\n",
    "import xlwings as xw\n",
    "import os\n",
    "from docx2pdf import convert\n",
    "\n",
    "# def rename(file):\n",
    "#     ext = os.path.splitext(file) # 将文件名路径与后缀名分开\n",
    "#     if ext[1] == '.docx':                    # 文件名：ext[0]\n",
    "#         new_name = ext[0] + '.pdf'         # 文件后缀：ext[1]\n",
    "#         os.rename(file, new_name)           # tree()已切换工作地址，直接替换后缀\n",
    "        \n",
    "# 打开excel程序\n",
    "app=xw.App(visible=False,add_book=False)\n",
    "app.display_alerts=False\n",
    "app.screen_updating=False\n",
    "wb=app.books.add() # wb就是新建的工作簿(workbook)，下面则对wb的sheet1的A1单元格赋值\n",
    "# 填入表头\n",
    "wb.sheets['sheet1'].range('A1').value='受让方名称'\n",
    "wb.sheets['sheet1'].range('B1').value='受让方联系人'\n",
    "wb.sheets['sheet1'].range('C1').value='受让人手机'\n",
    "wb.sheets['sheet1'].range('D1').value='受让人邮箱'\n",
    "\n",
    "#获取文件所在目录\n",
    "path = r'C:\\Users\\zhaoy\\Desktop\\【拟用印版】安如3期转让协议及转让登记表'\n",
    "files = os.listdir(path)\n",
    "\n",
    "\n",
    "i=2\n",
    "for f in files:\n",
    "    if f.startswith('~$') or '转让登记表' not in f:\n",
    "        continue\n",
    "    else:\n",
    "        f_new=os.path.splitext(f)[0]+\".pdf\"\n",
    "        convert(os.path.join(path,f), os.path.join(path,f_new))\n",
    "                             \n",
    "\n",
    "        with pdfplumber.open(os.path.join(path,f_new)) as pdf:\n",
    "                page01 = pdf.pages[0] #指定页码\n",
    "                table1 = page01.extract_table()#提取单个表格\n",
    "                list = [table1[2][3],table1[7][3],table1[9][3],table1[10][3]]\n",
    "                wb.sheets['sheet1'].range('A'+str(i)).value=list\n",
    "                i+=1\n",
    "         \n",
    "        #写入excel表中\n",
    "        \n",
    "#自动调整行列高度\n",
    "wb.sheets['sheet1'].range('A1').expand().autofit()\n",
    "#保存、关闭文件，退出程序\n",
    "wb.save(r'C:\\Users\\zhaoy\\Desktop\\投资者信息统计.xlsx') # 保存为指定名称的excel文件\n",
    "wb.close()\n",
    "app.quit()"
   ]
  },
  {
   "cell_type": "markdown",
   "id": "f2a9d3ee-b37c-4819-b373-ebcb42af12ea",
   "metadata": {},
   "source": [
    "# 批量从多份word文件中提取指定文本\n",
    "以下代码是为了解决另外一个问题，也就是在项目成立前，需要批量填写每份投资者转让协议，这段代码实现的功能是批量读取转让合同中用【】括起来的内容，再挑选关键的规模和成立日期这些信息，实现快速复核\n",
    "\n",
    "后续可以继续完善，实现从簿记结果，自动填写到对应的转让合同中"
   ]
  },
  {
   "cell_type": "code",
   "execution_count": 12,
   "id": "02a55e8a-c82c-46a0-b2ce-a6027b6be849",
   "metadata": {},
   "outputs": [
    {
     "name": "stdout",
     "output_type": "stream",
     "text": [
      "['作为转让方', '南京银行股份有限公司', '作为受让方', 'NJYH', '6', ' ', '转让人', '受让人', '以下简称“本合同”', '2021', '6', ' ', '受让方简称', '受让方全称', '以下简称“粤财信托”', 'YCXTJG-WLD2021-4-XTHT', '以下简称“《信托合同》”', '以下简称“信托”或“本信托”', '以下简称“受益人”', '以下简称“《主协议》”', '以下简称“银登中心”', '2021', '6', '16', '以下简称“标的信托受益权”', 'A', 'A', 'A', '6,300,000,000.00', 'A', '500,000,000.00', '特殊普通合伙', '适用于“《信托合同》”约定需召集“受益人大会”的情形', '包括但不限于“资产池”管理、催收和服务，资金核算分配及账目管理、资料保管等事项', '含该日', '不含该日', '含该日', '1', '2', '1', '含', '含', '2', 'A', '500,000,000.00', 'A', '500,000,000.00', '大写：【伍亿', '与划款有关的任何银行收费应由受让方承担', '受让方应向“受托人”提供的相关资料清单见本合同附件一', '零', '内容详见转让方提供的其与“受托人”签署的“《风险申明书》”', '含该日', '不含该日', '1', '2', '3', '4', '如需', '1', '2', '已在“《信托合同》”中约定的信托终止的情形除外', '包括但不限于“《主定义表》”、“《信托合同》”、“《风险申明书》”、“《服务合同》”、“《资金保管合同》”等', '包括但不限于违反陈述、保证与承诺条款', '或其任何授权管理人员', '仅为本合同之目的，不包括香港和澳门特别行政区以及台湾地区', '仅为本合同之目的，包括香港和澳门特别行政区以及台湾地区', '210000', '025-85727971', '025-85720806', '刘欣瑶', '就本合同之目的不包括香港和澳门特别行政区以及台湾地区', '30', '以下无正文', 'YCXTJG-WLD2021-4-XTHT', '500,000,000.00', '五亿', '500,000,000.00', '以受托人出具的《信托受益权转让告知函》为准', '本页无正文，为编号为YCXTJG-WLD2021-4-ZRHT【NJYH', '公章或合同专用章', '签字或盖章', '南京银行股份有限公司', '公章或合同专用章', '签字或盖章', '《信托合同》、《风险申明书》', '或受托人留存相应影像资料', '基本存款账户开户许可证', '加盖公章', '正、副本', '加盖公章', '正反，本人签字或加盖公章', '本人居民身份证或护照正本', '正反，本人签字', '基本存款账户开户许可证', '加盖公章', '正、副本', '加盖公章', '正反，本人签字或加盖公章', '本人居民身份证或护照正本', '正反，本人签字', '转让人', '转让方', '转让方', '受让方', '转让方', '2021', '6', '16', '50000万份/对应信托本金50000万元', '编号：YCXTJG-WLD2021-4-XTHT', '包括转让登记手续办理完毕前未分配的信托利益', '受让人', '受让方', '转让方', '受让方', '转让方', '合同编号为：YCXTJG-WLD2021-4-XTHT', '50000万份/对应信托本金50000万元', '包括转让登记手续办理完毕前未分配的信托利益，不含转让登记手续办理完毕前已分配的信托利益']\n"
     ]
    }
   ],
   "source": [
    "# -*- coding:utf-8 -*-\n",
    " \n",
    "# 此程序可扫描Log中的docx文件并返回基本信息\n",
    " \n",
    "from zipfile import ZipFile\n",
    "from bs4 import BeautifulSoup\n",
    "import re\n",
    "import os\n",
    "test_d = r'C:\\Users\\zhaoy\\Desktop\\test1.docx'\n",
    "doc = ZipFile(test_d)\n",
    "xml=doc.read(\"word/document.xml\")\n",
    "wordObj=BeautifulSoup(xml.decode(\"utf-8\"))\n",
    "texts=wordObj.findAll(\"w:t\")\n",
    "\n",
    "# print(texts.text)\n",
    "regex = r\"[（【](.*?)[）】]\"\n",
    "# str=os.path.join(\" \",text.text)\n",
    "# print(str)\n",
    "reg_str=''\n",
    "for text in texts:\n",
    "    reg_str += text.text\n",
    "# print(str)\n",
    "\n",
    "matches = re.findall(regex, reg_str)\n",
    "# 下面打印出来对应的序列号，来筛选具体需要的某些项\n",
    "for i,match in enumerate(matches):\n",
    "    print(i,match)\n",
    "# len(matches)\n",
    "# print(matches)\n",
    "# 通过观察，发现需要提取的是下面列表的内容，这部分可以继续优化，更加智能解决问题\n",
    "# To do\n",
    "num = [15,21,22,23,28,29,30,44,46,47,75,76,77,107,108,109,118]\n"
   ]
  },
  {
   "cell_type": "code",
   "execution_count": 10,
   "id": "7e02f895-0d4a-4ba9-b2d8-2e3d81527867",
   "metadata": {},
   "outputs": [],
   "source": [
    "import xlwings as xw\n",
    "\n",
    "# 打开excel程序\n",
    "app=xw.App(visible=False,add_book=False)\n",
    "app.display_alerts=False\n",
    "app.screen_updating=False\n",
    "wb=app.books.add() # wb就是新建的工作簿(workbook)，下面则对wb的sheet1的A1单元格赋值\n",
    "# 填入表头\n",
    "# wb.sheets['sheet1'].range('A1').value='投资者名称'\n",
    "# wb.sheets['sheet1'].range('B1').value='投资者受让规模'\n",
    "# wb.sheets['sheet1'].range('C1').value='投资者支付价款'\n",
    "# wb.sheets['sheet1'].range('D1').value='资产全称'\n",
    "\n",
    "\n",
    "num = [15,21,22,23,28,29,30,44,46,47,75,76,77,107,108,109,118]\n",
    "list=[]\n",
    "for i in num:\n",
    "    list.append(matches[i])\n",
    "\n",
    "\n",
    "    wb.sheets['sheet1'].range('A1').value=match\n",
    "\n",
    "    #自动调整行列高度\n",
    "wb.sheets['sheet1'].range('A1').expand().autofit()\n",
    "#保存、关闭文件，退出程序\n",
    "wb.save(r'C:\\Users\\zhaoy\\Desktop\\投资者信息测试.xlsx') # 保存为指定名称的excel文件\n",
    "wb.close()\n",
    "app.quit()\n",
    "#     print(matches[i])\n",
    "#     list += matches[i]\n",
    "# print(list)"
   ]
  },
  {
   "cell_type": "markdown",
   "id": "14274230-ccb9-48f6-abc8-95bf2ddab262",
   "metadata": {},
   "source": [
    "以上代码已经可以实现初步功能，自动提取转让合同中有关合同编号、成立日期，总规模以及本次认购规模等数据的提取，下面将各个功能定义成函数，方便后续复用，也方便其它同事使用"
   ]
  },
  {
   "cell_type": "code",
   "execution_count": null,
   "id": "609caff4-f446-4d51-b08c-e054fc27d9d9",
   "metadata": {},
   "outputs": [],
   "source": [
    "def text_doc(word_doc):\n",
    "    \"\"\"\n",
    "    定义函数，提取某个word文档中全部的正文文本，并组成一个单一的长字符串\n",
    "    调用函数时，输入的是需要提取的word文件的路径名称，类似下面的：\n",
    "    word_doc=r'C:\\Users\\zhaoy\\Desktop\\test1.docx'\n",
    "    注意文件一定是直接使用word保存或另存为为docx格式的文档，否则无效\n",
    "    \"\"\"\n",
    "    doc = ZipFile(word_doc)\n",
    "    xml=doc.read(\"word/document.xml\")\n",
    "    wordObj=BeautifulSoup(xml.decode(\"utf-8\"))\n",
    "    texts=wordObj.findAll(\"w:t\")\n",
    "    \n",
    "    reg_str=''\n",
    "    for text in texts:\n",
    "    reg_str += text.text\n",
    "    \n",
    "    return reg_str"
   ]
  },
  {
   "cell_type": "code",
   "execution_count": null,
   "id": "7e70c43a-a47a-4509-ba1f-04f44d4ccef3",
   "metadata": {},
   "outputs": [],
   "source": [
    "def reg_match():\n",
    "    \"\"\"\n",
    "    正则表达式，匹配所有以【】括起来的内容,返回所需文本组成的列表\n",
    "    注意这里面包括了所有以中括号包裹起来的文本，需要进一步提取需要的项\n",
    "    或进一步优化正则表达式\n",
    "    \"\"\"\n",
    "    regex = r\"[（【](.*?)[）】]\"\n",
    "    # regex = r\"(\\d+?,\\d*,.*)(\\D)$\" # 可以匹配科学计数的数字+单位的字符串\n",
    "    matches = re.findall(regex, reg_str)\n",
    "    \n",
    "    return matches"
   ]
  },
  {
   "cell_type": "markdown",
   "id": "dfc55302-1ec9-4f1f-8929-a22a56eb50b2",
   "metadata": {},
   "source": [
    "通过确定好具体需要提取的某些列表内容，就可以实现了，或者全部提取出来，也已经能够大大减轻工作量了"
   ]
  },
  {
   "cell_type": "code",
   "execution_count": 9,
   "id": "4c69f730-e2fe-4743-9382-b7d25d5e3b3a",
   "metadata": {},
   "outputs": [
    {
     "name": "stdout",
     "output_type": "stream",
     "text": [
      "['YCXTJG-WLD2021-4-XTHT', '2021', '6', '16', '6,300,000,000.00', 'A', '500,000,000.00', '500,000,000.00', '500,000,000.00', '大写：【伍亿', '500,000,000.00', '五亿', '500,000,000.00', '6', '16', '50000万份/对应信托本金50000万元', '50000万份/对应信托本金50000万元']\n"
     ]
    }
   ],
   "source": [
    "num = [15,21,22,23,28,29,30,44,46,47,75,76,77,107,108,109,118]\n",
    "list=[]\n",
    "for i in num:\n",
    "    list.append(matches[i])\n",
    "print(list)"
   ]
  },
  {
   "cell_type": "code",
   "execution_count": null,
   "id": "dfe71151-cfbd-4718-8f6f-71901fe308f9",
   "metadata": {},
   "outputs": [],
   "source": []
  }
 ],
 "metadata": {
  "kernelspec": {
   "display_name": "Python 3",
   "language": "python",
   "name": "python3"
  },
  "language_info": {
   "codemirror_mode": {
    "name": "ipython",
    "version": 3
   },
   "file_extension": ".py",
   "mimetype": "text/x-python",
   "name": "python",
   "nbconvert_exporter": "python",
   "pygments_lexer": "ipython3",
   "version": "3.8.8"
  }
 },
 "nbformat": 4,
 "nbformat_minor": 5
}
